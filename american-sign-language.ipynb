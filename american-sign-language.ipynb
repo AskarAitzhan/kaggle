{
 "cells": [
  {
   "cell_type": "code",
   "execution_count": 1,
   "id": "d15dbbf8",
   "metadata": {
    "_cell_guid": "b1076dfc-b9ad-4769-8c92-a6c4dae69d19",
    "_uuid": "8f2839f25d086af736a60e9eeb907d3b93b6e0e5",
    "execution": {
     "iopub.execute_input": "2023-07-05T01:46:43.387668Z",
     "iopub.status.busy": "2023-07-05T01:46:43.387162Z",
     "iopub.status.idle": "2023-07-05T01:46:43.402538Z",
     "shell.execute_reply": "2023-07-05T01:46:43.401394Z"
    },
    "papermill": {
     "duration": 0.025895,
     "end_time": "2023-07-05T01:46:43.405194",
     "exception": false,
     "start_time": "2023-07-05T01:46:43.379299",
     "status": "completed"
    },
    "tags": []
   },
   "outputs": [],
   "source": [
    "# This Python 3 environment comes with many helpful analytics libraries installed\n",
    "# It is defined by the kaggle/python Docker image: https://github.com/kaggle/docker-python\n",
    "# For example, here's several helpful packages to load\n",
    "\n",
    "import numpy as np # linear algebra\n",
    "import pandas as pd # data processing, CSV file I/O (e.g. pd.read_csv)\n",
    "\n",
    "# Input data files are available in the read-only \"../input/\" directory\n",
    "# For example, running this (by clicking run or pressing Shift+Enter) will list all files under the input directory\n",
    "\n",
    "def print_input_files():\n",
    "    import os\n",
    "    for dirname, _, filenames in os.walk('/kaggle/input'):\n",
    "        for filename in filenames:\n",
    "            print(os.path.join(dirname, filename))\n",
    "\n",
    "# You can write up to 20GB to the current directory (/kaggle/working/) that gets preserved as output when you create a version using \"Save & Run All\" \n",
    "# You can also write temporary files to /kaggle/temp/, but they won't be saved outside of the current session"
   ]
  },
  {
   "cell_type": "code",
   "execution_count": 2,
   "id": "586d6012",
   "metadata": {
    "execution": {
     "iopub.execute_input": "2023-07-05T01:46:43.418086Z",
     "iopub.status.busy": "2023-07-05T01:46:43.417647Z",
     "iopub.status.idle": "2023-07-05T01:46:43.425602Z",
     "shell.execute_reply": "2023-07-05T01:46:43.424684Z"
    },
    "papermill": {
     "duration": 0.016787,
     "end_time": "2023-07-05T01:46:43.427679",
     "exception": false,
     "start_time": "2023-07-05T01:46:43.410892",
     "status": "completed"
    },
    "tags": []
   },
   "outputs": [],
   "source": [
    "class Dataset:\n",
    "    def __init__(self, train_file_path, base_folder_path):\n",
    "        if base_folder_path.endswith(\"/\"):\n",
    "            self.base_folder_path = base_folder_path\n",
    "        else:\n",
    "            self.base_folder_path = base_foldder_path + \"/\"\n",
    "        \n",
    "        self.train_data = pd.read_csv(train_file_path)\n",
    "        self.relevant_data = None\n",
    "        self.pq_path = None\n",
    "        \n",
    "    def get_relevant_data_subset(self, pq_path, sequence_id):\n",
    "        if pq_path == self.pq_path:\n",
    "            return self.relevant_data.loc[sequence_id]\n",
    "        \n",
    "        self.relevant_data = pd.read_parquet(base_folder_path + pq_path)\n",
    "        self.pq_path = pq_path\n",
    "        return self.relevant_data.loc[sequence_id]"
   ]
  },
  {
   "cell_type": "code",
   "execution_count": 3,
   "id": "504eaa21",
   "metadata": {
    "execution": {
     "iopub.execute_input": "2023-07-05T01:46:43.440285Z",
     "iopub.status.busy": "2023-07-05T01:46:43.439448Z",
     "iopub.status.idle": "2023-07-05T01:46:43.630251Z",
     "shell.execute_reply": "2023-07-05T01:46:43.629333Z"
    },
    "papermill": {
     "duration": 0.200234,
     "end_time": "2023-07-05T01:46:43.633170",
     "exception": false,
     "start_time": "2023-07-05T01:46:43.432936",
     "status": "completed"
    },
    "tags": []
   },
   "outputs": [],
   "source": [
    "base_folder_path = \"/kaggle/input/asl-fingerspelling/\"\n",
    "train_file_path = \"/kaggle/input/asl-fingerspelling/train.csv\"\n",
    "dataset = Dataset(train_file_path, base_folder_path)"
   ]
  },
  {
   "cell_type": "code",
   "execution_count": 4,
   "id": "09c3fafb",
   "metadata": {
    "execution": {
     "iopub.execute_input": "2023-07-05T01:46:43.646081Z",
     "iopub.status.busy": "2023-07-05T01:46:43.645631Z",
     "iopub.status.idle": "2023-07-05T01:46:43.652724Z",
     "shell.execute_reply": "2023-07-05T01:46:43.651834Z"
    },
    "papermill": {
     "duration": 0.016015,
     "end_time": "2023-07-05T01:46:43.654928",
     "exception": false,
     "start_time": "2023-07-05T01:46:43.638913",
     "status": "completed"
    },
    "tags": []
   },
   "outputs": [],
   "source": [
    "def calculate_frame_frequency():    \n",
    "    total_frames = 0\n",
    "    total_output_size = 0\n",
    "    for pq_path, sequence_id, output in zip(dataset.train_data['path'], dataset.train_data['sequence_id'], dataset.train_data['phrase']):\n",
    "        relevant_data = dataset.get_relevant_data_subset(pq_path, sequence_id)\n",
    "        total_frames += len(relevant_data)\n",
    "        total_output_size += len(output)\n",
    "\n",
    "    print(total_frames)\n",
    "    print(total_output_size)\n",
    "    print(\"Average frames per character: {}\".format(total_frames / total_output_size))"
   ]
  },
  {
   "cell_type": "code",
   "execution_count": 5,
   "id": "f8a118ea",
   "metadata": {
    "execution": {
     "iopub.execute_input": "2023-07-05T01:46:43.667522Z",
     "iopub.status.busy": "2023-07-05T01:46:43.666794Z",
     "iopub.status.idle": "2023-07-05T01:46:43.759570Z",
     "shell.execute_reply": "2023-07-05T01:46:43.758546Z"
    },
    "papermill": {
     "duration": 0.102472,
     "end_time": "2023-07-05T01:46:43.762669",
     "exception": false,
     "start_time": "2023-07-05T01:46:43.660197",
     "status": "completed"
    },
    "tags": []
   },
   "outputs": [],
   "source": [
    "from collections import defaultdict, Counter\n",
    "\n",
    "counter = Counter(''.join(dataset.train_data['phrase']))    \n",
    "most_common_character = counter.most_common(1)[0][0]"
   ]
  },
  {
   "cell_type": "code",
   "execution_count": 6,
   "id": "53155a6c",
   "metadata": {
    "execution": {
     "iopub.execute_input": "2023-07-05T01:46:43.775279Z",
     "iopub.status.busy": "2023-07-05T01:46:43.774812Z",
     "iopub.status.idle": "2023-07-05T01:46:43.779758Z",
     "shell.execute_reply": "2023-07-05T01:46:43.778637Z"
    },
    "papermill": {
     "duration": 0.014358,
     "end_time": "2023-07-05T01:46:43.782457",
     "exception": false,
     "start_time": "2023-07-05T01:46:43.768099",
     "status": "completed"
    },
    "tags": []
   },
   "outputs": [],
   "source": [
    "# TODO\n",
    "# 1. Load character map\n",
    "# 2. Initialize weights so that it always map to most common character\n",
    "# 3. Build model\n",
    "# 4. Convert into TFLite\n",
    "# 5. Submit"
   ]
  },
  {
   "cell_type": "code",
   "execution_count": 7,
   "id": "af9cd74c",
   "metadata": {
    "execution": {
     "iopub.execute_input": "2023-07-05T01:46:43.795010Z",
     "iopub.status.busy": "2023-07-05T01:46:43.794082Z",
     "iopub.status.idle": "2023-07-05T01:46:43.804559Z",
     "shell.execute_reply": "2023-07-05T01:46:43.803460Z"
    },
    "papermill": {
     "duration": 0.019175,
     "end_time": "2023-07-05T01:46:43.806978",
     "exception": false,
     "start_time": "2023-07-05T01:46:43.787803",
     "status": "completed"
    },
    "tags": []
   },
   "outputs": [
    {
     "name": "stdout",
     "output_type": "stream",
     "text": [
      "59\n"
     ]
    }
   ],
   "source": [
    "import json\n",
    "\n",
    "with open (\"/kaggle/input/asl-fingerspelling/character_to_prediction_index.json\", \"r\") as f:\n",
    "    character_map = json.load(f)\n",
    "rev_character_map = {j:i for i,j in character_map.items()}\n",
    "\n",
    "print(len(rev_character_map))"
   ]
  },
  {
   "cell_type": "markdown",
   "id": "af2a4836",
   "metadata": {
    "papermill": {
     "duration": 0.006787,
     "end_time": "2023-07-05T01:46:43.819605",
     "exception": false,
     "start_time": "2023-07-05T01:46:43.812818",
     "status": "completed"
    },
    "tags": []
   },
   "source": [
    "Apparently we are not given a video but rather 3D coordinates of the different points of the body, probably for hiding sensitive information."
   ]
  },
  {
   "cell_type": "code",
   "execution_count": 8,
   "id": "c1562bee",
   "metadata": {
    "execution": {
     "iopub.execute_input": "2023-07-05T01:46:43.832411Z",
     "iopub.status.busy": "2023-07-05T01:46:43.831479Z",
     "iopub.status.idle": "2023-07-05T01:47:09.203057Z",
     "shell.execute_reply": "2023-07-05T01:47:09.201946Z"
    },
    "papermill": {
     "duration": 25.381317,
     "end_time": "2023-07-05T01:47:09.205959",
     "exception": false,
     "start_time": "2023-07-05T01:46:43.824642",
     "status": "completed"
    },
    "tags": []
   },
   "outputs": [
    {
     "name": "stderr",
     "output_type": "stream",
     "text": [
      "/opt/conda/lib/python3.10/site-packages/tensorflow_io/python/ops/__init__.py:98: UserWarning: unable to load libtensorflow_io_plugins.so: unable to open file: libtensorflow_io_plugins.so, from paths: ['/opt/conda/lib/python3.10/site-packages/tensorflow_io/python/ops/libtensorflow_io_plugins.so']\n",
      "caused by: ['/opt/conda/lib/python3.10/site-packages/tensorflow_io/python/ops/libtensorflow_io_plugins.so: undefined symbol: _ZN3tsl6StatusC1EN10tensorflow5error4CodeESt17basic_string_viewIcSt11char_traitsIcEENS_14SourceLocationE']\n",
      "  warnings.warn(f\"unable to load libtensorflow_io_plugins.so: {e}\")\n",
      "/opt/conda/lib/python3.10/site-packages/tensorflow_io/python/ops/__init__.py:104: UserWarning: file system plugins are not loaded: unable to open file: libtensorflow_io.so, from paths: ['/opt/conda/lib/python3.10/site-packages/tensorflow_io/python/ops/libtensorflow_io.so']\n",
      "caused by: ['/opt/conda/lib/python3.10/site-packages/tensorflow_io/python/ops/libtensorflow_io.so: undefined symbol: _ZTVN10tensorflow13GcsFileSystemE']\n",
      "  warnings.warn(f\"file system plugins are not loaded: {e}\")\n"
     ]
    }
   ],
   "source": [
    "import tensorflow as tf\n",
    "from tensorflow.keras import models, layers\n",
    "\n",
    "output_size = len(rev_character_map)\n",
    "input_size = dataset.get_relevant_data_subset(dataset.train_data.iloc[0]['path'], dataset.train_data.iloc[0]['sequence_id']).shape[1]\n",
    "\n",
    "model = models.Sequential()\n",
    "layer = layers.Dense(output_size, input_shape=(input_size,), name='outputs')\n",
    "\n",
    "layer.build((None, input_size))\n",
    "\n",
    "weights = np.zeros((input_size, output_size))\n",
    "bias = np.zeros((output_size,))\n",
    "bias[character_map[most_common_character]] = 1\n",
    "\n",
    "layer.set_weights([weights, bias])\n",
    "layer.trainable = False\n",
    "\n",
    "model.add(layer)\n",
    "model.compile(optimizer='adam', loss='mse')"
   ]
  },
  {
   "cell_type": "code",
   "execution_count": 9,
   "id": "e53cc165",
   "metadata": {
    "execution": {
     "iopub.execute_input": "2023-07-05T01:47:09.219678Z",
     "iopub.status.busy": "2023-07-05T01:47:09.218924Z",
     "iopub.status.idle": "2023-07-05T01:47:10.718016Z",
     "shell.execute_reply": "2023-07-05T01:47:10.716832Z"
    },
    "papermill": {
     "duration": 1.509285,
     "end_time": "2023-07-05T01:47:10.721074",
     "exception": false,
     "start_time": "2023-07-05T01:47:09.211789",
     "status": "completed"
    },
    "tags": []
   },
   "outputs": [],
   "source": [
    "converter = tf.lite.TFLiteConverter.from_keras_model(model)\n",
    "tflite_model = converter.convert()\n",
    "\n",
    "with open('model.tflite', 'wb') as f:\n",
    "    f.write(tflite_model)"
   ]
  },
  {
   "cell_type": "code",
   "execution_count": 10,
   "id": "ff8d9261",
   "metadata": {
    "execution": {
     "iopub.execute_input": "2023-07-05T01:47:10.733640Z",
     "iopub.status.busy": "2023-07-05T01:47:10.733225Z",
     "iopub.status.idle": "2023-07-05T01:47:10.742548Z",
     "shell.execute_reply": "2023-07-05T01:47:10.741304Z"
    },
    "papermill": {
     "duration": 0.018554,
     "end_time": "2023-07-05T01:47:10.745149",
     "exception": false,
     "start_time": "2023-07-05T01:47:10.726595",
     "status": "completed"
    },
    "tags": []
   },
   "outputs": [],
   "source": [
    "def evaluate_model(model):\n",
    "    frames = dataset.get_relevant_data_subset(dataset.train_data.iloc[0]['path'], dataset.train_data.iloc[0]['sequence_id'])\n",
    "\n",
    "    REQUIRED_SIGNATURE = \"serving_default\"\n",
    "    REQUIRED_OUTPUT = \"outputs\"\n",
    "\n",
    "    with open (\"/kaggle/input/asl-fingerspelling/character_to_prediction_index.json\", \"r\") as f:\n",
    "        character_map = json.load(f)\n",
    "    rev_character_map = {j:i for i,j in character_map.items()}\n",
    "\n",
    "    found_signatures = list(model.get_signature_list().keys())\n",
    "\n",
    "    if REQUIRED_SIGNATURE not in found_signatures:\n",
    "        raise KernelEvalException('Required input signature not found.')\n",
    "\n",
    "    prediction_fn = model.get_signature_runner(\"serving_default\")\n",
    "    output = prediction_fn(inputs=frames)\n",
    "    prediction_str = \"\".join([rev_character_map.get(s, \"\") for s in np.argmax(output[REQUIRED_OUTPUT], axis=1)])\n",
    "    return prediction_str"
   ]
  },
  {
   "cell_type": "code",
   "execution_count": 11,
   "id": "cc82eea2",
   "metadata": {
    "execution": {
     "iopub.execute_input": "2023-07-05T01:47:10.757685Z",
     "iopub.status.busy": "2023-07-05T01:47:10.757304Z",
     "iopub.status.idle": "2023-07-05T01:47:11.904967Z",
     "shell.execute_reply": "2023-07-05T01:47:11.903482Z"
    },
    "papermill": {
     "duration": 1.157286,
     "end_time": "2023-07-05T01:47:11.907963",
     "exception": false,
     "start_time": "2023-07-05T01:47:10.750677",
     "status": "completed"
    },
    "tags": []
   },
   "outputs": [
    {
     "name": "stdout",
     "output_type": "stream",
     "text": [
      "  adding: model.tflite (deflated 100%)\r\n"
     ]
    }
   ],
   "source": [
    "!zip -r submission.zip model.tflite"
   ]
  },
  {
   "cell_type": "code",
   "execution_count": 12,
   "id": "13fed260",
   "metadata": {
    "execution": {
     "iopub.execute_input": "2023-07-05T01:47:11.922108Z",
     "iopub.status.busy": "2023-07-05T01:47:11.921605Z",
     "iopub.status.idle": "2023-07-05T01:47:11.932834Z",
     "shell.execute_reply": "2023-07-05T01:47:11.931677Z"
    },
    "papermill": {
     "duration": 0.021328,
     "end_time": "2023-07-05T01:47:11.935304",
     "exception": false,
     "start_time": "2023-07-05T01:47:11.913976",
     "status": "completed"
    },
    "tags": []
   },
   "outputs": [],
   "source": [
    "# Equivalent of how the model is evaluated\n",
    "\n",
    "def evaluate_model_src():\n",
    "    model_path = \"/kaggle/working/model.tflite\"\n",
    "    frames = dataset.get_relevant_data_subset(dataset.train_data.iloc[0]['path'], dataset.train_data.iloc[0]['sequence_id'])\n",
    "\n",
    "    import tflite_runtime.interpreter as tflite\n",
    "    interpreter = tflite.Interpreter(model_path)\n",
    "\n",
    "    REQUIRED_SIGNATURE = \"serving_default\"\n",
    "    REQUIRED_OUTPUT = \"outputs\"\n",
    "\n",
    "    with open (\"/kaggle/input/fingerspelling-character-map/character_to_prediction_index.json\", \"r\") as f:\n",
    "        character_map = json.load(f)\n",
    "    rev_character_map = {j:i for i,j in character_map.items()}\n",
    "\n",
    "    found_signatures = list(interpreter.get_signature_list().keys())\n",
    "\n",
    "    if REQUIRED_SIGNATURE not in found_signatures:\n",
    "        raise KernelEvalException('Required input signature not found.')\n",
    "\n",
    "    prediction_fn = interpreter.get_signature_runner(\"serving_default\")\n",
    "    output = prediction_fn(inputs=frames)\n",
    "    prediction_str = \"\".join([rev_character_map.get(s, \"\") for s in np.argmax(output[REQUIRED_OUTPUT], axis=1)])\n",
    "    return prediction_str"
   ]
  }
 ],
 "metadata": {
  "kernelspec": {
   "display_name": "Python 3",
   "language": "python",
   "name": "python3"
  },
  "language_info": {
   "codemirror_mode": {
    "name": "ipython",
    "version": 3
   },
   "file_extension": ".py",
   "mimetype": "text/x-python",
   "name": "python",
   "nbconvert_exporter": "python",
   "pygments_lexer": "ipython3",
   "version": "3.10.10"
  },
  "papermill": {
   "default_parameters": {},
   "duration": 43.784562,
   "end_time": "2023-07-05T01:47:15.059069",
   "environment_variables": {},
   "exception": null,
   "input_path": "__notebook__.ipynb",
   "output_path": "__notebook__.ipynb",
   "parameters": {},
   "start_time": "2023-07-05T01:46:31.274507",
   "version": "2.4.0"
  }
 },
 "nbformat": 4,
 "nbformat_minor": 5
}
