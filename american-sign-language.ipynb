{
 "cells": [
  {
   "cell_type": "code",
   "execution_count": 1,
   "id": "ea00395e",
   "metadata": {
    "_cell_guid": "b1076dfc-b9ad-4769-8c92-a6c4dae69d19",
    "_uuid": "8f2839f25d086af736a60e9eeb907d3b93b6e0e5",
    "execution": {
     "iopub.execute_input": "2023-07-03T23:51:25.535053Z",
     "iopub.status.busy": "2023-07-03T23:51:25.534633Z",
     "iopub.status.idle": "2023-07-03T23:51:25.559667Z",
     "shell.execute_reply": "2023-07-03T23:51:25.558720Z"
    },
    "papermill": {
     "duration": 0.034334,
     "end_time": "2023-07-03T23:51:25.562739",
     "exception": false,
     "start_time": "2023-07-03T23:51:25.528405",
     "status": "completed"
    },
    "tags": []
   },
   "outputs": [
    {
     "name": "stdout",
     "output_type": "stream",
     "text": [
      "/kaggle/input/asl-fingerspelling/supplemental_metadata.csv\n",
      "/kaggle/input/asl-fingerspelling/character_to_prediction_index.json\n",
      "/kaggle/input/asl-fingerspelling/train.csv\n",
      "/kaggle/input/asl-fingerspelling/supplemental_landmarks/371169664.parquet\n",
      "/kaggle/input/asl-fingerspelling/supplemental_landmarks/369584223.parquet\n",
      "/kaggle/input/asl-fingerspelling/supplemental_landmarks/1682915129.parquet\n",
      "/kaggle/input/asl-fingerspelling/supplemental_landmarks/775880548.parquet\n",
      "/kaggle/input/asl-fingerspelling/supplemental_landmarks/2100073719.parquet\n",
      "/kaggle/input/asl-fingerspelling/supplemental_landmarks/1650637630.parquet\n",
      "/kaggle/input/asl-fingerspelling/supplemental_landmarks/1471096258.parquet\n",
      "/kaggle/input/asl-fingerspelling/supplemental_landmarks/86446671.parquet\n",
      "/kaggle/input/asl-fingerspelling/supplemental_landmarks/897287709.parquet\n",
      "/kaggle/input/asl-fingerspelling/supplemental_landmarks/333606065.parquet\n",
      "/kaggle/input/asl-fingerspelling/supplemental_landmarks/2057261717.parquet\n",
      "/kaggle/input/asl-fingerspelling/supplemental_landmarks/971104021.parquet\n",
      "/kaggle/input/asl-fingerspelling/supplemental_landmarks/471766624.parquet\n",
      "/kaggle/input/asl-fingerspelling/supplemental_landmarks/1881515495.parquet\n",
      "/kaggle/input/asl-fingerspelling/supplemental_landmarks/1857374937.parquet\n",
      "/kaggle/input/asl-fingerspelling/supplemental_landmarks/293101677.parquet\n",
      "/kaggle/input/asl-fingerspelling/supplemental_landmarks/595441814.parquet\n",
      "/kaggle/input/asl-fingerspelling/supplemental_landmarks/1279694894.parquet\n",
      "/kaggle/input/asl-fingerspelling/supplemental_landmarks/756566775.parquet\n",
      "/kaggle/input/asl-fingerspelling/supplemental_landmarks/1471341722.parquet\n",
      "/kaggle/input/asl-fingerspelling/supplemental_landmarks/1112747136.parquet\n",
      "/kaggle/input/asl-fingerspelling/supplemental_landmarks/1756773911.parquet\n",
      "/kaggle/input/asl-fingerspelling/supplemental_landmarks/33432165.parquet\n",
      "/kaggle/input/asl-fingerspelling/supplemental_landmarks/1779786322.parquet\n",
      "/kaggle/input/asl-fingerspelling/supplemental_landmarks/1755047076.parquet\n",
      "/kaggle/input/asl-fingerspelling/supplemental_landmarks/1624527344.parquet\n",
      "/kaggle/input/asl-fingerspelling/supplemental_landmarks/597469033.parquet\n",
      "/kaggle/input/asl-fingerspelling/supplemental_landmarks/1505488209.parquet\n",
      "/kaggle/input/asl-fingerspelling/supplemental_landmarks/1144115867.parquet\n",
      "/kaggle/input/asl-fingerspelling/supplemental_landmarks/1249944812.parquet\n",
      "/kaggle/input/asl-fingerspelling/supplemental_landmarks/1118603411.parquet\n",
      "/kaggle/input/asl-fingerspelling/supplemental_landmarks/676340265.parquet\n",
      "/kaggle/input/asl-fingerspelling/supplemental_landmarks/716508881.parquet\n",
      "/kaggle/input/asl-fingerspelling/supplemental_landmarks/736978972.parquet\n",
      "/kaggle/input/asl-fingerspelling/supplemental_landmarks/1579345709.parquet\n",
      "/kaggle/input/asl-fingerspelling/supplemental_landmarks/285528514.parquet\n",
      "/kaggle/input/asl-fingerspelling/supplemental_landmarks/1047404576.parquet\n",
      "/kaggle/input/asl-fingerspelling/supplemental_landmarks/697480828.parquet\n",
      "/kaggle/input/asl-fingerspelling/supplemental_landmarks/1032110484.parquet\n",
      "/kaggle/input/asl-fingerspelling/supplemental_landmarks/440362090.parquet\n",
      "/kaggle/input/asl-fingerspelling/supplemental_landmarks/924144755.parquet\n",
      "/kaggle/input/asl-fingerspelling/supplemental_landmarks/639454452.parquet\n",
      "/kaggle/input/asl-fingerspelling/supplemental_landmarks/236903981.parquet\n",
      "/kaggle/input/asl-fingerspelling/supplemental_landmarks/636900267.parquet\n",
      "/kaggle/input/asl-fingerspelling/supplemental_landmarks/1176508147.parquet\n",
      "/kaggle/input/asl-fingerspelling/supplemental_landmarks/131312512.parquet\n",
      "/kaggle/input/asl-fingerspelling/supplemental_landmarks/778903889.parquet\n",
      "/kaggle/input/asl-fingerspelling/supplemental_landmarks/193950599.parquet\n",
      "/kaggle/input/asl-fingerspelling/supplemental_landmarks/442061898.parquet\n",
      "/kaggle/input/asl-fingerspelling/supplemental_landmarks/95345213.parquet\n",
      "/kaggle/input/asl-fingerspelling/supplemental_landmarks/1407656790.parquet\n",
      "/kaggle/input/asl-fingerspelling/supplemental_landmarks/680303484.parquet\n",
      "/kaggle/input/asl-fingerspelling/supplemental_landmarks/1727438550.parquet\n",
      "/kaggle/input/asl-fingerspelling/train_landmarks/1358493307.parquet\n",
      "/kaggle/input/asl-fingerspelling/train_landmarks/495378749.parquet\n",
      "/kaggle/input/asl-fingerspelling/train_landmarks/2118949241.parquet\n",
      "/kaggle/input/asl-fingerspelling/train_landmarks/5414471.parquet\n",
      "/kaggle/input/asl-fingerspelling/train_landmarks/1133664520.parquet\n",
      "/kaggle/input/asl-fingerspelling/train_landmarks/433948159.parquet\n",
      "/kaggle/input/asl-fingerspelling/train_landmarks/1920330615.parquet\n",
      "/kaggle/input/asl-fingerspelling/train_landmarks/683666742.parquet\n",
      "/kaggle/input/asl-fingerspelling/train_landmarks/1365772051.parquet\n",
      "/kaggle/input/asl-fingerspelling/train_landmarks/939623093.parquet\n",
      "/kaggle/input/asl-fingerspelling/train_landmarks/1405046009.parquet\n",
      "/kaggle/input/asl-fingerspelling/train_landmarks/450474571.parquet\n",
      "/kaggle/input/asl-fingerspelling/train_landmarks/149822653.parquet\n",
      "/kaggle/input/asl-fingerspelling/train_landmarks/152029243.parquet\n",
      "/kaggle/input/asl-fingerspelling/train_landmarks/1552432300.parquet\n",
      "/kaggle/input/asl-fingerspelling/train_landmarks/1365275733.parquet\n",
      "/kaggle/input/asl-fingerspelling/train_landmarks/1880177496.parquet\n",
      "/kaggle/input/asl-fingerspelling/train_landmarks/1021040628.parquet\n",
      "/kaggle/input/asl-fingerspelling/train_landmarks/1557244878.parquet\n",
      "/kaggle/input/asl-fingerspelling/train_landmarks/1497621680.parquet\n",
      "/kaggle/input/asl-fingerspelling/train_landmarks/522550314.parquet\n",
      "/kaggle/input/asl-fingerspelling/train_landmarks/649779897.parquet\n",
      "/kaggle/input/asl-fingerspelling/train_landmarks/1905462118.parquet\n",
      "/kaggle/input/asl-fingerspelling/train_landmarks/175396851.parquet\n",
      "/kaggle/input/asl-fingerspelling/train_landmarks/638508439.parquet\n",
      "/kaggle/input/asl-fingerspelling/train_landmarks/532011803.parquet\n",
      "/kaggle/input/asl-fingerspelling/train_landmarks/2072296290.parquet\n",
      "/kaggle/input/asl-fingerspelling/train_landmarks/1906357076.parquet\n",
      "/kaggle/input/asl-fingerspelling/train_landmarks/2026717426.parquet\n",
      "/kaggle/input/asl-fingerspelling/train_landmarks/1967755728.parquet\n",
      "/kaggle/input/asl-fingerspelling/train_landmarks/1785039512.parquet\n",
      "/kaggle/input/asl-fingerspelling/train_landmarks/1643479812.parquet\n",
      "/kaggle/input/asl-fingerspelling/train_landmarks/1134756332.parquet\n",
      "/kaggle/input/asl-fingerspelling/train_landmarks/1019715464.parquet\n",
      "/kaggle/input/asl-fingerspelling/train_landmarks/566963657.parquet\n",
      "/kaggle/input/asl-fingerspelling/train_landmarks/568753759.parquet\n",
      "/kaggle/input/asl-fingerspelling/train_landmarks/1726141437.parquet\n",
      "/kaggle/input/asl-fingerspelling/train_landmarks/296317215.parquet\n",
      "/kaggle/input/asl-fingerspelling/train_landmarks/234418913.parquet\n",
      "/kaggle/input/asl-fingerspelling/train_landmarks/614661748.parquet\n",
      "/kaggle/input/asl-fingerspelling/train_landmarks/654436541.parquet\n",
      "/kaggle/input/asl-fingerspelling/train_landmarks/474255203.parquet\n",
      "/kaggle/input/asl-fingerspelling/train_landmarks/1662742697.parquet\n",
      "/kaggle/input/asl-fingerspelling/train_landmarks/1099408314.parquet\n",
      "/kaggle/input/asl-fingerspelling/train_landmarks/1341528257.parquet\n",
      "/kaggle/input/asl-fingerspelling/train_landmarks/105143404.parquet\n",
      "/kaggle/input/asl-fingerspelling/train_landmarks/527708222.parquet\n",
      "/kaggle/input/asl-fingerspelling/train_landmarks/882979387.parquet\n",
      "/kaggle/input/asl-fingerspelling/train_landmarks/933868835.parquet\n",
      "/kaggle/input/asl-fingerspelling/train_landmarks/1969985709.parquet\n",
      "/kaggle/input/asl-fingerspelling/train_landmarks/425182931.parquet\n",
      "/kaggle/input/asl-fingerspelling/train_landmarks/1098899348.parquet\n",
      "/kaggle/input/asl-fingerspelling/train_landmarks/1255240050.parquet\n",
      "/kaggle/input/asl-fingerspelling/train_landmarks/1997878546.parquet\n",
      "/kaggle/input/asl-fingerspelling/train_landmarks/128822441.parquet\n",
      "/kaggle/input/asl-fingerspelling/train_landmarks/388576474.parquet\n",
      "/kaggle/input/asl-fingerspelling/train_landmarks/546816846.parquet\n",
      "/kaggle/input/asl-fingerspelling/train_landmarks/1320204318.parquet\n",
      "/kaggle/input/asl-fingerspelling/train_landmarks/1448136004.parquet\n",
      "/kaggle/input/asl-fingerspelling/train_landmarks/349393104.parquet\n",
      "/kaggle/input/asl-fingerspelling/train_landmarks/2072876091.parquet\n",
      "/kaggle/input/asl-fingerspelling/train_landmarks/871280215.parquet\n",
      "/kaggle/input/asl-fingerspelling/train_landmarks/1562234637.parquet\n",
      "/kaggle/input/asl-fingerspelling/train_landmarks/1865557033.parquet\n",
      "/kaggle/input/asl-fingerspelling/train_landmarks/1664666588.parquet\n",
      "/kaggle/input/asl-fingerspelling/train_landmarks/1647220008.parquet\n",
      "/kaggle/input/asl-fingerspelling/train_landmarks/2036580525.parquet\n",
      "/kaggle/input/asl-fingerspelling/train_landmarks/169560558.parquet\n"
     ]
    }
   ],
   "source": [
    "# This Python 3 environment comes with many helpful analytics libraries installed\n",
    "# It is defined by the kaggle/python Docker image: https://github.com/kaggle/docker-python\n",
    "# For example, here's several helpful packages to load\n",
    "\n",
    "import numpy as np # linear algebra\n",
    "import pandas as pd # data processing, CSV file I/O (e.g. pd.read_csv)\n",
    "\n",
    "# Input data files are available in the read-only \"../input/\" directory\n",
    "# For example, running this (by clicking run or pressing Shift+Enter) will list all files under the input directory\n",
    "\n",
    "import os\n",
    "for dirname, _, filenames in os.walk('/kaggle/input'):\n",
    "    for filename in filenames:\n",
    "        print(os.path.join(dirname, filename))\n",
    "\n",
    "# You can write up to 20GB to the current directory (/kaggle/working/) that gets preserved as output when you create a version using \"Save & Run All\" \n",
    "# You can also write temporary files to /kaggle/temp/, but they won't be saved outside of the current session"
   ]
  },
  {
   "cell_type": "code",
   "execution_count": 2,
   "id": "3ffc7062",
   "metadata": {
    "execution": {
     "iopub.execute_input": "2023-07-03T23:51:25.574207Z",
     "iopub.status.busy": "2023-07-03T23:51:25.573240Z",
     "iopub.status.idle": "2023-07-03T23:51:25.581761Z",
     "shell.execute_reply": "2023-07-03T23:51:25.580670Z"
    },
    "papermill": {
     "duration": 0.017236,
     "end_time": "2023-07-03T23:51:25.584683",
     "exception": false,
     "start_time": "2023-07-03T23:51:25.567447",
     "status": "completed"
    },
    "tags": []
   },
   "outputs": [],
   "source": [
    "class Dataset:\n",
    "    def __init__(self, train_file_path, base_folder_path):\n",
    "        if base_folder_path.endswith(\"/\"):\n",
    "            self.base_folder_path = base_folder_path\n",
    "        else:\n",
    "            self.base_folder_path = base_foldder_path + \"/\"\n",
    "        \n",
    "        self.train_data = pd.read_csv(train_file_path)\n",
    "        self.relevant_data = None\n",
    "        self.pq_path = None\n",
    "        \n",
    "    def get_relevant_data_subset(self, pq_path, sequence_id):\n",
    "        if pq_path == self.pq_path:\n",
    "            return self.relevant_data.loc[sequence_id]\n",
    "        \n",
    "        self.relevant_data = pd.read_parquet(base_folder_path + pq_path)\n",
    "        self.pq_path = pq_path\n",
    "        return self.relevant_data.loc[sequence_id]"
   ]
  },
  {
   "cell_type": "code",
   "execution_count": 3,
   "id": "0b990d9d",
   "metadata": {
    "execution": {
     "iopub.execute_input": "2023-07-03T23:51:25.597027Z",
     "iopub.status.busy": "2023-07-03T23:51:25.595844Z",
     "iopub.status.idle": "2023-07-03T23:51:25.773117Z",
     "shell.execute_reply": "2023-07-03T23:51:25.772134Z"
    },
    "papermill": {
     "duration": 0.186307,
     "end_time": "2023-07-03T23:51:25.775750",
     "exception": false,
     "start_time": "2023-07-03T23:51:25.589443",
     "status": "completed"
    },
    "tags": []
   },
   "outputs": [],
   "source": [
    "base_folder_path = \"/kaggle/input/asl-fingerspelling/\"\n",
    "train_file_path = \"/kaggle/input/asl-fingerspelling/train.csv\"\n",
    "dataset = Dataset(train_file_path, base_folder_path)"
   ]
  },
  {
   "cell_type": "code",
   "execution_count": 4,
   "id": "21743f37",
   "metadata": {
    "execution": {
     "iopub.execute_input": "2023-07-03T23:51:25.785916Z",
     "iopub.status.busy": "2023-07-03T23:51:25.785243Z",
     "iopub.status.idle": "2023-07-03T23:51:25.791390Z",
     "shell.execute_reply": "2023-07-03T23:51:25.790464Z"
    },
    "papermill": {
     "duration": 0.01416,
     "end_time": "2023-07-03T23:51:25.793827",
     "exception": false,
     "start_time": "2023-07-03T23:51:25.779667",
     "status": "completed"
    },
    "tags": []
   },
   "outputs": [],
   "source": [
    "def calculate_frame_frequency():    \n",
    "    total_frames = 0\n",
    "    total_output_size = 0\n",
    "    for pq_path, sequence_id, output in zip(dataset.train_data['path'], dataset.train_data['sequence_id'], dataset.train_data['phrase']):\n",
    "        relevant_data = dataset.get_relevant_data_subset(pq_path, sequence_id)\n",
    "        total_frames += len(relevant_data)\n",
    "        total_output_size += len(output)\n",
    "\n",
    "    print(total_frames)\n",
    "    print(total_output_size)\n",
    "    print(\"Average frames per character: {}\".format(total_frames / total_output_size))"
   ]
  },
  {
   "cell_type": "code",
   "execution_count": 5,
   "id": "14495bbf",
   "metadata": {
    "execution": {
     "iopub.execute_input": "2023-07-03T23:51:25.804424Z",
     "iopub.status.busy": "2023-07-03T23:51:25.803699Z",
     "iopub.status.idle": "2023-07-03T23:51:25.902078Z",
     "shell.execute_reply": "2023-07-03T23:51:25.900327Z"
    },
    "papermill": {
     "duration": 0.107107,
     "end_time": "2023-07-03T23:51:25.905331",
     "exception": false,
     "start_time": "2023-07-03T23:51:25.798224",
     "status": "completed"
    },
    "tags": []
   },
   "outputs": [
    {
     "name": "stdout",
     "output_type": "stream",
     "text": [
      "Character 3 appears 29789 times\n",
      "Character   appears 58569 times\n",
      "Character c appears 33020 times\n",
      "Character r appears 55533 times\n",
      "Character e appears 71986 times\n",
      "Character k appears 12355 times\n",
      "Character h appears 24243 times\n",
      "Character o appears 57784 times\n",
      "Character u appears 20907 times\n",
      "Character s appears 43224 times\n",
      "Character a appears 69521 times\n",
      "Character l appears 38452 times\n",
      "Character / appears 19477 times\n",
      "Character y appears 11409 times\n",
      "Character 1 appears 31292 times\n",
      "Character 8 appears 28202 times\n",
      "Character w appears 28532 times\n",
      "Character i appears 43840 times\n",
      "Character m appears 26391 times\n",
      "Character n appears 45663 times\n",
      "Character 9 appears 29440 times\n",
      "Character f appears 8639 times\n",
      "Character 6 appears 29701 times\n",
      "Character 2 appears 31599 times\n",
      "Character 0 appears 26744 times\n",
      "Character t appears 47132 times\n",
      "Character d appears 25751 times\n",
      "Character . appears 24652 times\n",
      "Character j appears 4403 times\n",
      "Character p appears 17326 times\n",
      "Character : appears 1939 times\n",
      "Character z appears 3746 times\n",
      "Character 4 appears 29810 times\n",
      "Character - appears 54242 times\n",
      "Character 7 appears 28119 times\n",
      "Character b appears 13655 times\n",
      "Character v appears 10370 times\n",
      "Character _ appears 1683 times\n",
      "Character & appears 24 times\n",
      "Character + appears 8307 times\n",
      "Character 5 appears 29565 times\n",
      "Character g appears 15257 times\n",
      "Character % appears 128 times\n",
      "Character x appears 2315 times\n",
      "Character q appears 1114 times\n",
      "Character ? appears 302 times\n",
      "Character = appears 304 times\n",
      "Character @ appears 45 times\n",
      "Character ( appears 16 times\n",
      "Character ) appears 16 times\n",
      "Character $ appears 5 times\n",
      "Character , appears 40 times\n",
      "Character ~ appears 21 times\n",
      "Character ' appears 3 times\n",
      "Character # appears 3 times\n",
      "Character ! appears 3 times\n",
      "Character ; appears 1 times\n",
      "Character [ appears 2 times\n",
      "Character * appears 3 times\n"
     ]
    },
    {
     "data": {
      "text/plain": [
       "'e'"
      ]
     },
     "execution_count": 5,
     "metadata": {},
     "output_type": "execute_result"
    }
   ],
   "source": [
    "from collections import defaultdict, Counter\n",
    "\n",
    "counter = Counter(''.join(dataset.train_data['phrase']))\n",
    "\n",
    "for ch, cnt in counter.items():\n",
    "    print(\"Character {} appears {} times\".format(ch, cnt))\n",
    "    \n",
    "counter.most_common(1)[0][0]"
   ]
  },
  {
   "cell_type": "code",
   "execution_count": 6,
   "id": "2ef3542f",
   "metadata": {
    "execution": {
     "iopub.execute_input": "2023-07-03T23:51:25.917239Z",
     "iopub.status.busy": "2023-07-03T23:51:25.916753Z",
     "iopub.status.idle": "2023-07-03T23:51:25.922516Z",
     "shell.execute_reply": "2023-07-03T23:51:25.921126Z"
    },
    "papermill": {
     "duration": 0.014663,
     "end_time": "2023-07-03T23:51:25.924673",
     "exception": false,
     "start_time": "2023-07-03T23:51:25.910010",
     "status": "completed"
    },
    "tags": []
   },
   "outputs": [],
   "source": [
    "# TODO\n",
    "# 1. Load character map\n",
    "# 2. Initialize weights so that it always map to most common character\n",
    "# 3. Build model\n",
    "# 4. Convert into TFLite\n",
    "# 5. Submit"
   ]
  },
  {
   "cell_type": "code",
   "execution_count": 7,
   "id": "611a006f",
   "metadata": {
    "execution": {
     "iopub.execute_input": "2023-07-03T23:51:25.934998Z",
     "iopub.status.busy": "2023-07-03T23:51:25.934282Z",
     "iopub.status.idle": "2023-07-03T23:51:25.946357Z",
     "shell.execute_reply": "2023-07-03T23:51:25.944849Z"
    },
    "papermill": {
     "duration": 0.020299,
     "end_time": "2023-07-03T23:51:25.948942",
     "exception": false,
     "start_time": "2023-07-03T23:51:25.928643",
     "status": "completed"
    },
    "tags": []
   },
   "outputs": [
    {
     "name": "stdout",
     "output_type": "stream",
     "text": [
      "59\n"
     ]
    }
   ],
   "source": [
    "import json\n",
    "\n",
    "with open (\"/kaggle/input/asl-fingerspelling/character_to_prediction_index.json\", \"r\") as f:\n",
    "    character_map = json.load(f)\n",
    "rev_character_map = {j:i for i,j in character_map.items()}\n",
    "\n",
    "print(len(rev_character_map))"
   ]
  },
  {
   "cell_type": "markdown",
   "id": "22e9e5a7",
   "metadata": {
    "papermill": {
     "duration": 0.004031,
     "end_time": "2023-07-03T23:51:25.957523",
     "exception": false,
     "start_time": "2023-07-03T23:51:25.953492",
     "status": "completed"
    },
    "tags": []
   },
   "source": [
    "Apparently we are not given a video but rather 3D coordinates of the different points of the body, probably for hiding sensitive information."
   ]
  },
  {
   "cell_type": "code",
   "execution_count": 8,
   "id": "aa5ec1d0",
   "metadata": {
    "execution": {
     "iopub.execute_input": "2023-07-03T23:51:25.969611Z",
     "iopub.status.busy": "2023-07-03T23:51:25.969086Z",
     "iopub.status.idle": "2023-07-03T23:51:36.895424Z",
     "shell.execute_reply": "2023-07-03T23:51:36.894385Z"
    },
    "papermill": {
     "duration": 10.936778,
     "end_time": "2023-07-03T23:51:36.898469",
     "exception": false,
     "start_time": "2023-07-03T23:51:25.961691",
     "status": "completed"
    },
    "tags": []
   },
   "outputs": [
    {
     "name": "stderr",
     "output_type": "stream",
     "text": [
      "/opt/conda/lib/python3.10/site-packages/tensorflow_io/python/ops/__init__.py:98: UserWarning: unable to load libtensorflow_io_plugins.so: unable to open file: libtensorflow_io_plugins.so, from paths: ['/opt/conda/lib/python3.10/site-packages/tensorflow_io/python/ops/libtensorflow_io_plugins.so']\n",
      "caused by: ['/opt/conda/lib/python3.10/site-packages/tensorflow_io/python/ops/libtensorflow_io_plugins.so: undefined symbol: _ZN3tsl6StatusC1EN10tensorflow5error4CodeESt17basic_string_viewIcSt11char_traitsIcEENS_14SourceLocationE']\n",
      "  warnings.warn(f\"unable to load libtensorflow_io_plugins.so: {e}\")\n",
      "/opt/conda/lib/python3.10/site-packages/tensorflow_io/python/ops/__init__.py:104: UserWarning: file system plugins are not loaded: unable to open file: libtensorflow_io.so, from paths: ['/opt/conda/lib/python3.10/site-packages/tensorflow_io/python/ops/libtensorflow_io.so']\n",
      "caused by: ['/opt/conda/lib/python3.10/site-packages/tensorflow_io/python/ops/libtensorflow_io.so: undefined symbol: _ZTVN10tensorflow13GcsFileSystemE']\n",
      "  warnings.warn(f\"file system plugins are not loaded: {e}\")\n"
     ]
    }
   ],
   "source": [
    "import tensorflow as tf\n",
    "from tensorflow.keras import models, layers\n",
    "\n",
    "output_size = len(rev_character_map)\n",
    "input_size = 1630\n",
    "\n",
    "model = models.Sequential()\n",
    "layer = layers.Dense(output_size, input_shape=(input_size,))\n",
    "\n",
    "layer.build((None, input_size))\n",
    "weights = np.zeros((input_size, output_size))\n",
    "bias = np.zeros((output_size,))\n",
    "layer.set_weights([weights, bias])\n",
    "layer.trainable = False\n",
    "\n",
    "model.add(layer)\n",
    "model.compile(optimizer='adam', loss='mse')"
   ]
  },
  {
   "cell_type": "code",
   "execution_count": 9,
   "id": "385d3947",
   "metadata": {
    "execution": {
     "iopub.execute_input": "2023-07-03T23:51:36.911032Z",
     "iopub.status.busy": "2023-07-03T23:51:36.910363Z",
     "iopub.status.idle": "2023-07-03T23:51:38.331385Z",
     "shell.execute_reply": "2023-07-03T23:51:38.330421Z"
    },
    "papermill": {
     "duration": 1.4305,
     "end_time": "2023-07-03T23:51:38.333986",
     "exception": false,
     "start_time": "2023-07-03T23:51:36.903486",
     "status": "completed"
    },
    "tags": []
   },
   "outputs": [],
   "source": [
    "converter = tf.lite.TFLiteConverter.from_keras_model(model)\n",
    "tflite_model = converter.convert()\n",
    "\n",
    "with open('model.tflite', 'wb') as f:\n",
    "    f.write(tflite_model)"
   ]
  },
  {
   "cell_type": "code",
   "execution_count": null,
   "id": "32a87314",
   "metadata": {
    "papermill": {
     "duration": 0.004589,
     "end_time": "2023-07-03T23:51:38.343395",
     "exception": false,
     "start_time": "2023-07-03T23:51:38.338806",
     "status": "completed"
    },
    "tags": []
   },
   "outputs": [],
   "source": []
  }
 ],
 "metadata": {
  "kernelspec": {
   "display_name": "Python 3",
   "language": "python",
   "name": "python3"
  },
  "language_info": {
   "codemirror_mode": {
    "name": "ipython",
    "version": 3
   },
   "file_extension": ".py",
   "mimetype": "text/x-python",
   "name": "python",
   "nbconvert_exporter": "python",
   "pygments_lexer": "ipython3",
   "version": "3.10.10"
  },
  "papermill": {
   "default_parameters": {},
   "duration": 29.827227,
   "end_time": "2023-07-03T23:51:41.911832",
   "environment_variables": {},
   "exception": null,
   "input_path": "__notebook__.ipynb",
   "output_path": "__notebook__.ipynb",
   "parameters": {},
   "start_time": "2023-07-03T23:51:12.084605",
   "version": "2.4.0"
  }
 },
 "nbformat": 4,
 "nbformat_minor": 5
}
