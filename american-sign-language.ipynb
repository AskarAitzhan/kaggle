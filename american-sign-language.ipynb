{
 "cells": [
  {
   "cell_type": "code",
   "execution_count": 1,
   "id": "41705d6b",
   "metadata": {
    "_cell_guid": "b1076dfc-b9ad-4769-8c92-a6c4dae69d19",
    "_uuid": "8f2839f25d086af736a60e9eeb907d3b93b6e0e5",
    "execution": {
     "iopub.execute_input": "2023-07-04T23:53:32.873556Z",
     "iopub.status.busy": "2023-07-04T23:53:32.871488Z",
     "iopub.status.idle": "2023-07-04T23:53:32.884569Z",
     "shell.execute_reply": "2023-07-04T23:53:32.883537Z"
    },
    "papermill": {
     "duration": 0.022745,
     "end_time": "2023-07-04T23:53:32.887316",
     "exception": false,
     "start_time": "2023-07-04T23:53:32.864571",
     "status": "completed"
    },
    "tags": []
   },
   "outputs": [],
   "source": [
    "# This Python 3 environment comes with many helpful analytics libraries installed\n",
    "# It is defined by the kaggle/python Docker image: https://github.com/kaggle/docker-python\n",
    "# For example, here's several helpful packages to load\n",
    "\n",
    "import numpy as np # linear algebra\n",
    "import pandas as pd # data processing, CSV file I/O (e.g. pd.read_csv)\n",
    "\n",
    "# Input data files are available in the read-only \"../input/\" directory\n",
    "# For example, running this (by clicking run or pressing Shift+Enter) will list all files under the input directory\n",
    "\n",
    "def print_input_files():\n",
    "    import os\n",
    "    for dirname, _, filenames in os.walk('/kaggle/input'):\n",
    "        for filename in filenames:\n",
    "            print(os.path.join(dirname, filename))\n",
    "\n",
    "# You can write up to 20GB to the current directory (/kaggle/working/) that gets preserved as output when you create a version using \"Save & Run All\" \n",
    "# You can also write temporary files to /kaggle/temp/, but they won't be saved outside of the current session"
   ]
  },
  {
   "cell_type": "code",
   "execution_count": 2,
   "id": "394ae5d8",
   "metadata": {
    "execution": {
     "iopub.execute_input": "2023-07-04T23:53:32.898072Z",
     "iopub.status.busy": "2023-07-04T23:53:32.897418Z",
     "iopub.status.idle": "2023-07-04T23:53:44.305479Z",
     "shell.execute_reply": "2023-07-04T23:53:44.303898Z"
    },
    "papermill": {
     "duration": 11.415445,
     "end_time": "2023-07-04T23:53:44.307854",
     "exception": false,
     "start_time": "2023-07-04T23:53:32.892409",
     "status": "completed"
    },
    "tags": []
   },
   "outputs": [
    {
     "name": "stdout",
     "output_type": "stream",
     "text": [
      "deb https://packages.cloud.google.com/apt coral-edgetpu-stable main\r\n",
      "curl: /opt/conda/lib/libcurl.so.4: no version information available (required by curl)\r\n",
      "  % Total    % Received % Xferd  Average Speed   Time    Time     Time  Current\r\n",
      "                                 Dload  Upload   Total   Spent    Left  Speed\r\n",
      "100  2659  100  2659    0     0  69402      0 --:--:-- --:--:-- --:--:-- 69973\r\n",
      "OK\r\n",
      "Get:1 http://packages.cloud.google.com/apt gcsfuse-focal InRelease [5002 B]\r\n",
      "Hit:2 http://archive.ubuntu.com/ubuntu focal InRelease\r\n",
      "Get:3 http://archive.ubuntu.com/ubuntu focal-updates InRelease [114 kB]\r\n",
      "Get:4 https://packages.cloud.google.com/apt coral-edgetpu-stable InRelease [6332 B]\r\n",
      "Get:5 http://packages.cloud.google.com/apt gcsfuse-focal/main amd64 Packages [2356 B]\r\n",
      "Get:6 https://packages.cloud.google.com/apt cloud-sdk InRelease [6361 B]\r\n",
      "Get:7 http://security.ubuntu.com/ubuntu focal-security InRelease [114 kB]\r\n",
      "Get:8 http://archive.ubuntu.com/ubuntu focal-backports InRelease [108 kB]\r\n",
      "Ign:9 https://packages.cloud.google.com/apt coral-edgetpu-stable/main amd64 Packages\r\n",
      "Get:9 https://packages.cloud.google.com/apt coral-edgetpu-stable/main amd64 Packages [2317 B]\r\n",
      "Get:10 http://archive.ubuntu.com/ubuntu focal-updates/universe amd64 Packages [1366 kB]\r\n",
      "Get:11 https://packages.cloud.google.com/apt cloud-sdk/main amd64 Packages [474 kB]\r\n",
      "Get:12 http://archive.ubuntu.com/ubuntu focal-updates/restricted amd64 Packages [2648 kB]\r\n",
      "Get:13 http://archive.ubuntu.com/ubuntu focal-updates/multiverse amd64 Packages [31.2 kB]\r\n",
      "Get:14 http://archive.ubuntu.com/ubuntu focal-updates/main amd64 Packages [3343 kB]\r\n",
      "Get:15 http://security.ubuntu.com/ubuntu focal-security/universe amd64 Packages [1066 kB]\r\n",
      "Get:16 http://security.ubuntu.com/ubuntu focal-security/multiverse amd64 Packages [28.5 kB]\r\n",
      "Get:17 http://security.ubuntu.com/ubuntu focal-security/main amd64 Packages [2858 kB]\r\n",
      "Get:18 http://security.ubuntu.com/ubuntu focal-security/restricted amd64 Packages [2482 kB]\r\n",
      "Fetched 14.7 MB in 2s (8518 kB/s)\r\n",
      "\r\n",
      "\r\n",
      "\r\n",
      "\r\n",
      "The following additional packages will be installed:\r\n",
      "  python3-numpy\r\n",
      "Suggested packages:\r\n",
      "  gfortran python-numpy-doc python3-dev python3-pytest python3-numpy-dbg\r\n",
      "The following NEW packages will be installed:\r\n",
      "  python3-numpy python3-tflite-runtime\r\n",
      "0 upgraded, 2 newly installed, 0 to remove and 75 not upgraded.\r\n",
      "Need to get 6462 kB of archives.\r\n",
      "After this operation, 30.8 MB of additional disk space will be used.\r\n",
      "Get:1 https://packages.cloud.google.com/apt coral-edgetpu-stable/main amd64 python3-tflite-runtime amd64 2.5.0.post1 [3738 kB]\r\n",
      "Get:2 http://archive.ubuntu.com/ubuntu focal-updates/main amd64 python3-numpy amd64 1:1.17.4-5ubuntu3.1 [2724 kB]\r\n",
      "Fetched 6462 kB in 1s (6922 kB/s)\r\n",
      "Selecting previously unselected package python3-numpy.\r\n",
      "(Reading database ... 109859 files and directories currently installed.)\r\n",
      "Preparing to unpack .../python3-numpy_1%3a1.17.4-5ubuntu3.1_amd64.deb ...\r\n",
      "Unpacking python3-numpy (1:1.17.4-5ubuntu3.1) ...\r\n",
      "Selecting previously unselected package python3-tflite-runtime.\r\n",
      "Preparing to unpack .../python3-tflite-runtime_2.5.0.post1_amd64.deb ...\r\n",
      "Unpacking python3-tflite-runtime (2.5.0.post1) ...\r\n",
      "Setting up python3-numpy (1:1.17.4-5ubuntu3.1) ...\r\n",
      "Setting up python3-tflite-runtime (2.5.0.post1) ...\r\n"
     ]
    }
   ],
   "source": [
    "# Install necessary modules\n",
    "\n",
    "!echo \"deb https://packages.cloud.google.com/apt coral-edgetpu-stable main\" | sudo tee /etc/apt/sources.list.d/coral-edgetpu.list\n",
    "!curl https://packages.cloud.google.com/apt/doc/apt-key.gpg | sudo apt-key add -\n",
    "!apt-get update\n",
    "!apt-get -y install python3-tflite-runtime\n",
    "# !pip install https://dl.google.com/coral/python/tflite_runtime-2.1.0.post1-cp36-cp36m-linux_aarch64.whl\n",
    "\n",
    "# !pip install --extra-index-url https://google-coral.github.io/py-repo/ tflite_runtime"
   ]
  },
  {
   "cell_type": "code",
   "execution_count": 3,
   "id": "d1e9823c",
   "metadata": {
    "execution": {
     "iopub.execute_input": "2023-07-04T23:53:44.324516Z",
     "iopub.status.busy": "2023-07-04T23:53:44.324182Z",
     "iopub.status.idle": "2023-07-04T23:53:44.330754Z",
     "shell.execute_reply": "2023-07-04T23:53:44.329552Z"
    },
    "papermill": {
     "duration": 0.017258,
     "end_time": "2023-07-04T23:53:44.332674",
     "exception": false,
     "start_time": "2023-07-04T23:53:44.315416",
     "status": "completed"
    },
    "tags": []
   },
   "outputs": [],
   "source": [
    "class Dataset:\n",
    "    def __init__(self, train_file_path, base_folder_path):\n",
    "        if base_folder_path.endswith(\"/\"):\n",
    "            self.base_folder_path = base_folder_path\n",
    "        else:\n",
    "            self.base_folder_path = base_foldder_path + \"/\"\n",
    "        \n",
    "        self.train_data = pd.read_csv(train_file_path)\n",
    "        self.relevant_data = None\n",
    "        self.pq_path = None\n",
    "        \n",
    "    def get_relevant_data_subset(self, pq_path, sequence_id):\n",
    "        if pq_path == self.pq_path:\n",
    "            return self.relevant_data.loc[sequence_id]\n",
    "        \n",
    "        self.relevant_data = pd.read_parquet(base_folder_path + pq_path)\n",
    "        self.pq_path = pq_path\n",
    "        return self.relevant_data.loc[sequence_id]"
   ]
  },
  {
   "cell_type": "code",
   "execution_count": 4,
   "id": "fa3e5406",
   "metadata": {
    "execution": {
     "iopub.execute_input": "2023-07-04T23:53:44.349652Z",
     "iopub.status.busy": "2023-07-04T23:53:44.349281Z",
     "iopub.status.idle": "2023-07-04T23:53:44.484942Z",
     "shell.execute_reply": "2023-07-04T23:53:44.484208Z"
    },
    "papermill": {
     "duration": 0.146725,
     "end_time": "2023-07-04T23:53:44.487176",
     "exception": false,
     "start_time": "2023-07-04T23:53:44.340451",
     "status": "completed"
    },
    "tags": []
   },
   "outputs": [],
   "source": [
    "base_folder_path = \"/kaggle/input/asl-fingerspelling/\"\n",
    "train_file_path = \"/kaggle/input/asl-fingerspelling/train.csv\"\n",
    "dataset = Dataset(train_file_path, base_folder_path)"
   ]
  },
  {
   "cell_type": "code",
   "execution_count": 5,
   "id": "265b48b7",
   "metadata": {
    "execution": {
     "iopub.execute_input": "2023-07-04T23:53:44.506142Z",
     "iopub.status.busy": "2023-07-04T23:53:44.505360Z",
     "iopub.status.idle": "2023-07-04T23:53:44.511451Z",
     "shell.execute_reply": "2023-07-04T23:53:44.510251Z"
    },
    "papermill": {
     "duration": 0.017096,
     "end_time": "2023-07-04T23:53:44.513736",
     "exception": false,
     "start_time": "2023-07-04T23:53:44.496640",
     "status": "completed"
    },
    "tags": []
   },
   "outputs": [],
   "source": [
    "def calculate_frame_frequency():    \n",
    "    total_frames = 0\n",
    "    total_output_size = 0\n",
    "    for pq_path, sequence_id, output in zip(dataset.train_data['path'], dataset.train_data['sequence_id'], dataset.train_data['phrase']):\n",
    "        relevant_data = dataset.get_relevant_data_subset(pq_path, sequence_id)\n",
    "        total_frames += len(relevant_data)\n",
    "        total_output_size += len(output)\n",
    "\n",
    "    print(total_frames)\n",
    "    print(total_output_size)\n",
    "    print(\"Average frames per character: {}\".format(total_frames / total_output_size))"
   ]
  },
  {
   "cell_type": "code",
   "execution_count": 6,
   "id": "7ec12dc4",
   "metadata": {
    "execution": {
     "iopub.execute_input": "2023-07-04T23:53:44.530402Z",
     "iopub.status.busy": "2023-07-04T23:53:44.530012Z",
     "iopub.status.idle": "2023-07-04T23:53:44.604773Z",
     "shell.execute_reply": "2023-07-04T23:53:44.603607Z"
    },
    "papermill": {
     "duration": 0.086231,
     "end_time": "2023-07-04T23:53:44.607547",
     "exception": false,
     "start_time": "2023-07-04T23:53:44.521316",
     "status": "completed"
    },
    "tags": []
   },
   "outputs": [],
   "source": [
    "from collections import defaultdict, Counter\n",
    "\n",
    "counter = Counter(''.join(dataset.train_data['phrase']))    \n",
    "most_common_character = counter.most_common(1)[0][0]"
   ]
  },
  {
   "cell_type": "code",
   "execution_count": 7,
   "id": "9dc19a97",
   "metadata": {
    "execution": {
     "iopub.execute_input": "2023-07-04T23:53:44.625280Z",
     "iopub.status.busy": "2023-07-04T23:53:44.624208Z",
     "iopub.status.idle": "2023-07-04T23:53:44.629657Z",
     "shell.execute_reply": "2023-07-04T23:53:44.627924Z"
    },
    "papermill": {
     "duration": 0.017088,
     "end_time": "2023-07-04T23:53:44.632284",
     "exception": false,
     "start_time": "2023-07-04T23:53:44.615196",
     "status": "completed"
    },
    "tags": []
   },
   "outputs": [],
   "source": [
    "# TODO\n",
    "# 1. Load character map\n",
    "# 2. Initialize weights so that it always map to most common character\n",
    "# 3. Build model\n",
    "# 4. Convert into TFLite\n",
    "# 5. Submit"
   ]
  },
  {
   "cell_type": "code",
   "execution_count": 8,
   "id": "f282940e",
   "metadata": {
    "execution": {
     "iopub.execute_input": "2023-07-04T23:53:44.650288Z",
     "iopub.status.busy": "2023-07-04T23:53:44.649162Z",
     "iopub.status.idle": "2023-07-04T23:53:44.661452Z",
     "shell.execute_reply": "2023-07-04T23:53:44.659893Z"
    },
    "papermill": {
     "duration": 0.024162,
     "end_time": "2023-07-04T23:53:44.664428",
     "exception": false,
     "start_time": "2023-07-04T23:53:44.640266",
     "status": "completed"
    },
    "tags": []
   },
   "outputs": [
    {
     "name": "stdout",
     "output_type": "stream",
     "text": [
      "59\n"
     ]
    }
   ],
   "source": [
    "import json\n",
    "\n",
    "with open (\"/kaggle/input/asl-fingerspelling/character_to_prediction_index.json\", \"r\") as f:\n",
    "    character_map = json.load(f)\n",
    "rev_character_map = {j:i for i,j in character_map.items()}\n",
    "\n",
    "print(len(rev_character_map))"
   ]
  },
  {
   "cell_type": "markdown",
   "id": "447d38b9",
   "metadata": {
    "papermill": {
     "duration": 0.007522,
     "end_time": "2023-07-04T23:53:44.680267",
     "exception": false,
     "start_time": "2023-07-04T23:53:44.672745",
     "status": "completed"
    },
    "tags": []
   },
   "source": [
    "Apparently we are not given a video but rather 3D coordinates of the different points of the body, probably for hiding sensitive information."
   ]
  },
  {
   "cell_type": "code",
   "execution_count": 9,
   "id": "c3d1d8e3",
   "metadata": {
    "execution": {
     "iopub.execute_input": "2023-07-04T23:53:44.697955Z",
     "iopub.status.busy": "2023-07-04T23:53:44.697414Z",
     "iopub.status.idle": "2023-07-04T23:54:07.710939Z",
     "shell.execute_reply": "2023-07-04T23:54:07.709520Z"
    },
    "papermill": {
     "duration": 23.025424,
     "end_time": "2023-07-04T23:54:07.713563",
     "exception": false,
     "start_time": "2023-07-04T23:53:44.688139",
     "status": "completed"
    },
    "tags": []
   },
   "outputs": [
    {
     "name": "stderr",
     "output_type": "stream",
     "text": [
      "/opt/conda/lib/python3.10/site-packages/tensorflow_io/python/ops/__init__.py:98: UserWarning: unable to load libtensorflow_io_plugins.so: unable to open file: libtensorflow_io_plugins.so, from paths: ['/opt/conda/lib/python3.10/site-packages/tensorflow_io/python/ops/libtensorflow_io_plugins.so']\n",
      "caused by: ['/opt/conda/lib/python3.10/site-packages/tensorflow_io/python/ops/libtensorflow_io_plugins.so: undefined symbol: _ZN3tsl6StatusC1EN10tensorflow5error4CodeESt17basic_string_viewIcSt11char_traitsIcEENS_14SourceLocationE']\n",
      "  warnings.warn(f\"unable to load libtensorflow_io_plugins.so: {e}\")\n",
      "/opt/conda/lib/python3.10/site-packages/tensorflow_io/python/ops/__init__.py:104: UserWarning: file system plugins are not loaded: unable to open file: libtensorflow_io.so, from paths: ['/opt/conda/lib/python3.10/site-packages/tensorflow_io/python/ops/libtensorflow_io.so']\n",
      "caused by: ['/opt/conda/lib/python3.10/site-packages/tensorflow_io/python/ops/libtensorflow_io.so: undefined symbol: _ZTVN10tensorflow13GcsFileSystemE']\n",
      "  warnings.warn(f\"file system plugins are not loaded: {e}\")\n"
     ]
    }
   ],
   "source": [
    "import tensorflow as tf\n",
    "from tensorflow.keras import models, layers\n",
    "\n",
    "output_size = len(rev_character_map)\n",
    "input_size = dataset.get_relevant_data_subset(dataset.train_data.iloc[0]['path'], dataset.train_data.iloc[0]['sequence_id']).shape[1]\n",
    "\n",
    "model = models.Sequential()\n",
    "layer = layers.Dense(output_size, input_shape=(input_size,))\n",
    "\n",
    "layer.build((None, input_size))\n",
    "\n",
    "weights = np.zeros((input_size, output_size))\n",
    "bias = np.zeros((output_size,))\n",
    "bias[character_map[most_common_character]] = 1\n",
    "\n",
    "layer.set_weights([weights, bias])\n",
    "layer.trainable = False\n",
    "\n",
    "model.add(layer)\n",
    "model.compile(optimizer='adam', loss='mse')"
   ]
  },
  {
   "cell_type": "code",
   "execution_count": 10,
   "id": "aa7d0111",
   "metadata": {
    "execution": {
     "iopub.execute_input": "2023-07-04T23:54:07.733329Z",
     "iopub.status.busy": "2023-07-04T23:54:07.732933Z",
     "iopub.status.idle": "2023-07-04T23:54:08.963853Z",
     "shell.execute_reply": "2023-07-04T23:54:08.962464Z"
    },
    "papermill": {
     "duration": 1.243338,
     "end_time": "2023-07-04T23:54:08.966480",
     "exception": false,
     "start_time": "2023-07-04T23:54:07.723142",
     "status": "completed"
    },
    "tags": []
   },
   "outputs": [],
   "source": [
    "converter = tf.lite.TFLiteConverter.from_keras_model(model)\n",
    "tflite_model = converter.convert()\n",
    "\n",
    "with open('model.tflite', 'wb') as f:\n",
    "    f.write(tflite_model)"
   ]
  },
  {
   "cell_type": "code",
   "execution_count": 11,
   "id": "2469b4f3",
   "metadata": {
    "execution": {
     "iopub.execute_input": "2023-07-04T23:54:08.982708Z",
     "iopub.status.busy": "2023-07-04T23:54:08.982376Z",
     "iopub.status.idle": "2023-07-04T23:54:09.283313Z",
     "shell.execute_reply": "2023-07-04T23:54:09.281940Z"
    },
    "papermill": {
     "duration": 0.311521,
     "end_time": "2023-07-04T23:54:09.285510",
     "exception": false,
     "start_time": "2023-07-04T23:54:08.973989",
     "status": "completed"
    },
    "tags": []
   },
   "outputs": [
    {
     "name": "stdout",
     "output_type": "stream",
     "text": [
      "  adding: model.tflite (deflated 100%)\r\n"
     ]
    }
   ],
   "source": [
    "!zip -r submission.zip model.tflite"
   ]
  },
  {
   "cell_type": "code",
   "execution_count": 12,
   "id": "db1566e5",
   "metadata": {
    "execution": {
     "iopub.execute_input": "2023-07-04T23:54:09.302368Z",
     "iopub.status.busy": "2023-07-04T23:54:09.301927Z",
     "iopub.status.idle": "2023-07-04T23:54:09.310930Z",
     "shell.execute_reply": "2023-07-04T23:54:09.310198Z"
    },
    "papermill": {
     "duration": 0.019774,
     "end_time": "2023-07-04T23:54:09.312759",
     "exception": false,
     "start_time": "2023-07-04T23:54:09.292985",
     "status": "completed"
    },
    "tags": []
   },
   "outputs": [],
   "source": [
    "# Equivalent of how the model is evaluated\n",
    "\n",
    "def evaluate_model():\n",
    "    model_path = \"/kaggle/working/model.tflite\"\n",
    "    frames = dataset.get_relevant_data_subset(dataset.train_data.iloc[0]['path'], dataset.train_data.iloc[0]['sequence_id'])\n",
    "\n",
    "    import tflite_runtime.interpreter as tflite\n",
    "    interpreter = tflite.Interpreter(model_path)\n",
    "\n",
    "    REQUIRED_SIGNATURE = \"serving_default\"\n",
    "    REQUIRED_OUTPUT = \"outputs\"\n",
    "\n",
    "    with open (\"/kaggle/input/fingerspelling-character-map/character_to_prediction_index.json\", \"r\") as f:\n",
    "        character_map = json.load(f)\n",
    "    rev_character_map = {j:i for i,j in character_map.items()}\n",
    "\n",
    "    found_signatures = list(interpreter.get_signature_list().keys())\n",
    "\n",
    "    if REQUIRED_SIGNATURE not in found_signatures:\n",
    "        raise KernelEvalException('Required input signature not found.')\n",
    "\n",
    "    prediction_fn = interpreter.get_signature_runner(\"serving_default\")\n",
    "    output = prediction_fn(inputs=frames)\n",
    "    prediction_str = \"\".join([rev_character_map.get(s, \"\") for s in np.argmax(output[REQUIRED_OUTPUT], axis=1)])\n",
    "    return prediction_str"
   ]
  }
 ],
 "metadata": {
  "kernelspec": {
   "display_name": "Python 3",
   "language": "python",
   "name": "python3"
  },
  "language_info": {
   "codemirror_mode": {
    "name": "ipython",
    "version": 3
   },
   "file_extension": ".py",
   "mimetype": "text/x-python",
   "name": "python",
   "nbconvert_exporter": "python",
   "pygments_lexer": "ipython3",
   "version": "3.10.10"
  },
  "papermill": {
   "default_parameters": {},
   "duration": 48.331225,
   "end_time": "2023-07-04T23:54:12.071936",
   "environment_variables": {},
   "exception": null,
   "input_path": "__notebook__.ipynb",
   "output_path": "__notebook__.ipynb",
   "parameters": {},
   "start_time": "2023-07-04T23:53:23.740711",
   "version": "2.4.0"
  }
 },
 "nbformat": 4,
 "nbformat_minor": 5
}
